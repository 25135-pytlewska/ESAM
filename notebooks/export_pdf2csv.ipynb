{
 "cells": [
  {
   "cell_type": "code",
   "id": "initial_id",
   "metadata": {
    "collapsed": true,
    "ExecuteTime": {
     "end_time": "2025-07-23T11:13:44.084638Z",
     "start_time": "2025-07-23T11:06:57.687807Z"
    }
   },
   "source": [
    "import fitz  # PyMuPDF\n",
    "import pandas as pd\n",
    "import re\n",
    "\n",
    "# Ścieżka do pliku PDF\n",
    "pdf_path = \"pdf/ESAM.pdf\"  # <-- Zmień nazwę na swoją\n",
    "\n",
    "# Funkcja do parsowania wiersza danych\n",
    "def parse_row(line: str):\n",
    "    pattern = re.compile(\n",
    "        r\"(?P<start_kod>\\d{2,5})\\s+(?P<start_miasto>[A-ZŻŹĆŁŚĄĘÓŃa-zżźćńółęąś\\- ]+)\\s+\"\n",
    "        r\"(?P<stop_kod>\\d{2,5})\\s+(?P<stop_miasto>[A-ZŻŹĆŁŚĄĘÓŃa-zżźćńółęąś\\- ]+)\\s+\"\n",
    "        r\"(?P<miejsce>[A-ZŻŹĆŁŚĄĘÓŃa-zżźćńółęąś0-9&\\.\\- ]+)\\s+\"\n",
    "        r\"(?P<nr>\\d{15})\\s+\"\n",
    "        r\"(?P<mpal>\\d+,\\d+|\\d+)\\s+\"\n",
    "        r\"(?P<km>\\d+)\\s+\"\n",
    "        r\"(?P<stref>\\w+)?\\s*\"\n",
    "        r\"(?P<staw>\\d+)?\\s+\"\n",
    "        r\"(?P<waga_br>[\\d,]+)\\s*/\\s+(?P<waga_przel>[\\d,]+)\\s+\\d\\s+\"\n",
    "        r\"(?P<kwota>[\\d,]+)?\\s+(?P<kosztow>\\d+)?\\s+(?P<konto>\\d+)?\"\n",
    "    )\n",
    "    match = pattern.search(line)\n",
    "    if match:\n",
    "        return match.groupdict()\n",
    "    return None\n",
    "\n",
    "# Wczytaj PDF i przetwórz strony\n",
    "doc = fitz.open(pdf_path)\n",
    "rows = []\n",
    "\n",
    "for page in doc:\n",
    "    text = page.get_text()\n",
    "    for line in text.split(\"\\n\"):\n",
    "        row = parse_row(line)\n",
    "        if row:\n",
    "            rows.append(row)\n",
    "\n",
    "# Konwertuj do DataFrame i zapisz do CSV\n",
    "df = pd.DataFrame(rows)\n",
    "df.to_csv(\"wyciag_ESAM_pelny.csv\", index=False)\n",
    "print(\"Eksport zakończony: wyciag_ESAM_pelny.csv\")"
   ],
   "outputs": [
    {
     "name": "stdout",
     "output_type": "stream",
     "text": [
      "Eksport zakończony: wyciag_ESAM_pelny.csv\n"
     ]
    }
   ],
   "execution_count": 2
  },
  {
   "metadata": {},
   "cell_type": "code",
   "outputs": [],
   "execution_count": null,
   "source": "",
   "id": "3785a570ab8537cb"
  }
 ],
 "metadata": {
  "kernelspec": {
   "display_name": "Python 3",
   "language": "python",
   "name": "python3"
  },
  "language_info": {
   "codemirror_mode": {
    "name": "ipython",
    "version": 2
   },
   "file_extension": ".py",
   "mimetype": "text/x-python",
   "name": "python",
   "nbconvert_exporter": "python",
   "pygments_lexer": "ipython2",
   "version": "2.7.6"
  }
 },
 "nbformat": 4,
 "nbformat_minor": 5
}
